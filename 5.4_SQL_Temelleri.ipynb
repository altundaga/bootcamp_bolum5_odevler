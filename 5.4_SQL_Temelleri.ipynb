{
 "cells": [
  {
   "cell_type": "markdown",
   "metadata": {},
   "source": [
    "Soru 1) Kredi limiti (creditlimit) 100.000'den büyük olan tüm müşterilerin (-customers tablosundan) müşteri numarası, adı ve kredi limit bilgilerini creditlimit alanına göre sıralı bir şekilde gösteriniz."
   ]
  },
  {
   "cell_type": "raw",
   "metadata": {},
   "source": [
    "SELECT \n",
    " customerNumber,\n",
    " customerName,\n",
    " creditLimit\n",
    "FROM \n",
    " customers\n",
    "WHERE creditLimit >100000\n",
    "ORDER BY creditLimit;"
   ]
  },
  {
   "cell_type": "markdown",
   "metadata": {},
   "source": [
    "Soru 2) customers tablosundan customernumber bilgisi 151 olan kaydın her sütununu gösteriniz."
   ]
  },
  {
   "cell_type": "raw",
   "metadata": {},
   "source": [
    "SELECT * \n",
    "FROM customers\n",
    "WHERE customerNumber=151;"
   ]
  },
  {
   "cell_type": "markdown",
   "metadata": {},
   "source": [
    "Soru 3) Posta kodu (postalcode) 10022 olan müşterilerin kredi limit bilgilerini azalan sırada gösteriniz."
   ]
  },
  {
   "cell_type": "raw",
   "metadata": {},
   "source": [
    "SELECT creditLimit \n",
    "FROM customers\n",
    "WHERE postalCode=10022\n",
    "ORDER BY creditLimit DESC;"
   ]
  },
  {
   "cell_type": "code",
   "execution_count": null,
   "metadata": {},
   "outputs": [],
   "source": []
  }
 ],
 "metadata": {
  "kernelspec": {
   "display_name": "Python 3",
   "language": "python",
   "name": "python3"
  },
  "language_info": {
   "codemirror_mode": {
    "name": "ipython",
    "version": 3
   },
   "file_extension": ".py",
   "mimetype": "text/x-python",
   "name": "python",
   "nbconvert_exporter": "python",
   "pygments_lexer": "ipython3",
   "version": "3.7.2"
  }
 },
 "nbformat": 4,
 "nbformat_minor": 2
}
