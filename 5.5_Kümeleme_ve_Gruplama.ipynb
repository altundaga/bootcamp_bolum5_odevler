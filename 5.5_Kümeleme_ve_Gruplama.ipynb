{
 "cells": [
  {
   "cell_type": "markdown",
   "metadata": {},
   "source": [
    "1) Maximum kredi limiti nedir? Hangi müşteriye ait?"
   ]
  },
  {
   "cell_type": "raw",
   "metadata": {},
   "source": [
    "SELECT max(creditLimit),customerName\n",
    "FROM customers\n",
    "GROUP BY customerName\n",
    "ORDER BY creditLimit DESC\n",
    "limit 1;"
   ]
  },
  {
   "cell_type": "markdown",
   "metadata": {},
   "source": [
    "2) Her ülkeden kaç müşteri var?"
   ]
  },
  {
   "cell_type": "raw",
   "metadata": {},
   "source": [
    "SELECT count(*),\n",
    "country\n",
    "FROM customers\n",
    "GROUP BY country;"
   ]
  },
  {
   "cell_type": "markdown",
   "metadata": {},
   "source": [
    "3) En az sipariş veren müşteri numarası ve sipariş sayısı nedir (orders tablosundan)?"
   ]
  },
  {
   "cell_type": "raw",
   "metadata": {},
   "source": [
    "SELECT customerNumber,count(orderNumber)\n",
    "FROM orders\n",
    "GROUP BY customerNumber\n",
    "ORDER BY count(orderNumber)\n",
    "limit 1;"
   ]
  },
  {
   "cell_type": "code",
   "execution_count": null,
   "metadata": {},
   "outputs": [],
   "source": []
  }
 ],
 "metadata": {
  "kernelspec": {
   "display_name": "Python 3",
   "language": "python",
   "name": "python3"
  },
  "language_info": {
   "codemirror_mode": {
    "name": "ipython",
    "version": 3
   },
   "file_extension": ".py",
   "mimetype": "text/x-python",
   "name": "python",
   "nbconvert_exporter": "python",
   "pygments_lexer": "ipython3",
   "version": "3.7.2"
  }
 },
 "nbformat": 4,
 "nbformat_minor": 2
}
