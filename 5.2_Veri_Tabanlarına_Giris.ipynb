{
 "cells": [
  {
   "cell_type": "markdown",
   "metadata": {},
   "source": [
    "# Veri Tabanı Ne İşe Yarar? SQL Ne İçin Kullanılır?"
   ]
  },
  {
   "cell_type": "markdown",
   "metadata": {},
   "source": [
    "Elinizde işinize yarayacak veriler var ve bunları saklamak istiyorsunuz, bu veriler her geçen gün artıyor.\n",
    "Veriniz artık çok küçük olmayan boyutlara ulaştığında veri tabanı kullanmak gerekecektir.\n",
    "Veri Tabanı belirli bir sistematikle verilerinizi kayıt altına aldığınız yerdir.\n",
    "Verinizle duruma ve ihtiyaca göre çeşitli işlemler yapmak isteyebilirsiniz.\n",
    "Veri tabanı üzerinde bu işlemleri kolaylıkla gerçekleştirebilirsiniz. \n",
    "Bu işlemler Ekleme,Çıkarma,Analiz,Sentez vb gibi ihtiyacınız olan herhangi bir şey olabilir.\n",
    "Birden fazla kullanıcı için aynı anda erişime açıktır. Veriler en güncel halleriyle burada tutulmaktadır.\n",
    "Kısaca kolay bir şekilde verinizi yönetebilirsiniz.\n",
    "\n",
    "SQL de bu yönetme süreçlerinde işinizi kolaylaştıran bir araç. Veri tabanınızla iletişim diliniz.\n",
    "Yapmak istediğiniz işlemleri SQL aracılığıyla veritabanınızda gerçekleştirebilirsiniz."
   ]
  },
  {
   "cell_type": "code",
   "execution_count": null,
   "metadata": {},
   "outputs": [],
   "source": []
  }
 ],
 "metadata": {
  "kernelspec": {
   "display_name": "Python 3",
   "language": "python",
   "name": "python3"
  },
  "language_info": {
   "codemirror_mode": {
    "name": "ipython",
    "version": 3
   },
   "file_extension": ".py",
   "mimetype": "text/x-python",
   "name": "python",
   "nbconvert_exporter": "python",
   "pygments_lexer": "ipython3",
   "version": "3.7.2"
  }
 },
 "nbformat": 4,
 "nbformat_minor": 2
}
